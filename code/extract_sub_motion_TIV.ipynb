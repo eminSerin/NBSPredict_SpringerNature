{
 "cells": [
  {
   "cell_type": "code",
   "execution_count": null,
   "id": "905a528c-7e62-4991-b34c-828c6435f95f",
   "metadata": {},
   "outputs": [],
   "source": [
    "# Import libraries\n",
    "import glob, os\n",
    "import pandas as pd\n",
    "import numpy as np"
   ]
  },
  {
   "cell_type": "code",
   "execution_count": null,
   "id": "47e8b266-d489-406b-b640-ed146dd64c04",
   "metadata": {},
   "outputs": [],
   "source": [
    "# Set directory and dataset names.\n",
    "base_dir = \"/mnt/mbServerData/data/AOMIC\"\n",
    "datasets = [\"ID1000\"]"
   ]
  },
  {
   "cell_type": "code",
   "execution_count": null,
   "id": "18670e42-362e-48b3-904d-842fb1107500",
   "metadata": {
    "tags": []
   },
   "outputs": [],
   "source": [
    "sub_motion = []\n",
    "\n",
    "# Take mean framewise displacement and DVARS from each confound file.\n",
    "for dataset in datasets: \n",
    "    c_dir = os.path.join(base_dir, dataset,'derivatives','fmriprep')\n",
    "    sub_dirs = [a for a in glob.glob(os.path.join(c_dir,'sub-*')) if os.path.isdir(a)]\n",
    "    n_sub = len(sub_dirs)\n",
    "    print(f'{dataset}')\n",
    "    for i, sub in enumerate(sub_dirs):\n",
    "        sub_ID = sub.split(os.sep)[-1]\n",
    "        tasks = glob.glob(os.path.join(sub, \"func\", \"*.tsv\"))\n",
    "        for task in tasks: \n",
    "            task_name = task.split(os.sep)[-1].split('_')[1].split('-')[-1]\n",
    "            conf_data = pd.read_csv(task, delimiter='\\t')\n",
    "            sub_motion.append({'dataset':dataset, 'ID':sub_ID, \n",
    "                               'task':task_name, \n",
    "                               'FD':np.mean(conf_data.framewise_displacement), \n",
    "                               'DVARS':np.mean(conf_data.std_dvars)})\n",
    "        print(f'Processing... {i+1}/{n_sub}\\r', end='', flush=True)\n",
    "        print('\\n\\n')\n",
    "\n",
    "print('\\nDone!!!')"
   ]
  },
  {
   "cell_type": "code",
   "execution_count": null,
   "id": "8be42b1a",
   "metadata": {},
   "outputs": [],
   "source": [
    "sub_TIV = []\n",
    "fs_atlas = 'Destrieux2009' # DesikanKilliany or Destrieux2009\n",
    "\n",
    "# Take mean framewise displacement and DVARS from each confound file.\n",
    "for dataset in datasets: \n",
    "    c_dir = os.path.join(base_dir, dataset,'derivatives','fs_stats')\n",
    "    sub_dirs = [a for a in glob.glob(os.path.join(c_dir,'sub-*')) if os.path.isdir(a)]\n",
    "    n_sub = len(sub_dirs)\n",
    "    print(f'{dataset}')\n",
    "    for i, sub in enumerate(sub_dirs):\n",
    "        sub_ID = sub.split(os.sep)[-1]\n",
    "        conf_data_name = os.path.join(sub, f'{sub_ID}_desc-{fs_atlas}_stats.tsv')\n",
    "        conf_data = pd.read_csv(conf_data_name, delimiter='\\t')\n",
    "        sub_TIV.append(\n",
    "            {\n",
    "                'dataset':dataset, 'ID':sub_ID, \n",
    "                'TIV':conf_data.iloc[-1]['volume'], 'BrainSegVolNotVent': conf_data.iloc[-2]['volume']})\n",
    "        print(f'Processing... {i+1}/{n_sub}\\r', end='', flush=True)\n",
    "    print('\\n')\n",
    "\n",
    "print('\\nDone!!!')"
   ]
  },
  {
   "cell_type": "code",
   "execution_count": null,
   "id": "d2f4ede3-67e1-4c4d-be8f-eca1569e5dfb",
   "metadata": {
    "tags": []
   },
   "outputs": [],
   "source": [
    "# Convert list of dictionaries to a dataframe and save it.\n",
    "\n",
    "# Subject Motion\n",
    "sub_motion = pd.DataFrame(sub_motion)\n",
    "sub_motion.to_csv(os.path.join(base_dir,'subject_motion.csv'), index=None)\n",
    "\n",
    "# TIV\n",
    "sub_TIV = pd.DataFrame(sub_TIV)\n",
    "sub_TIV.to_csv(os.path.join(base_dir,'sub_TIV.csv'), index=None)"
   ]
  }
 ],
 "metadata": {
  "interpreter": {
   "hash": "374146b879f64c40364024d3c7a67bd9057a636d195bdcec9dcae3eaf2e8c489"
  },
  "kernelspec": {
   "display_name": "Python 3 (ipykernel)",
   "language": "python",
   "name": "python394jvsc74a57bd0374146b879f64c40364024d3c7a67bd9057a636d195bdcec9dcae3eaf2e8c489"
  },
  "language_info": {
   "codemirror_mode": {
    "name": "ipython",
    "version": 3
   },
   "file_extension": ".py",
   "mimetype": "text/x-python",
   "name": "python",
   "nbconvert_exporter": "python",
   "pygments_lexer": "ipython3",
   "version": "3.9.4"
  }
 },
 "nbformat": 4,
 "nbformat_minor": 5
}
